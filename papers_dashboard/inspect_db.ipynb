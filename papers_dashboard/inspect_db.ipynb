{
 "cells": [
  {
   "cell_type": "markdown",
   "id": "46a76cf6",
   "metadata": {},
   "source": [
    "# Notebook for inspecting, regularizing, and cleaning the database of metadata\n"
   ]
  },
  {
   "cell_type": "code",
   "execution_count": null,
   "id": "f50289e7-6ea4-4c0f-a656-76959e981c86",
   "metadata": {},
   "outputs": [],
   "source": [
    "# Cell 1: imports and path\n",
    "import sqlite3\n",
    "import pandas as pd\n",
    "\n",
    "# If your notebook is in papers_dashboard/, this path is correct:\n",
    "DB_PATH = \"asr_papers.db\"\n"
   ]
  },
  {
   "cell_type": "code",
   "execution_count": null,
   "id": "25bbdf02-bc73-493d-ba1e-bf0d9bef0f72",
   "metadata": {},
   "outputs": [],
   "source": [
    "# Cell 2: sanity-check that we can connect without error\n",
    "try:\n",
    "    with sqlite3.connect(DB_PATH) as conn:\n",
    "        print(f\"✅ Successfully opened {DB_PATH}\")\n",
    "except Exception as e:\n",
    "    print(\"❌ Failed to open database:\", e)\n"
   ]
  },
  {
   "cell_type": "code",
   "execution_count": null,
   "id": "9fd9ac1a-d9b8-4d77-b15b-4588128e55da",
   "metadata": {},
   "outputs": [],
   "source": [
    "# Cell 3: Count how many rows (papers) we have\n",
    "with sqlite3.connect(DB_PATH) as conn:\n",
    "    df_total = pd.read_sql(\"SELECT COUNT(*) AS total_papers FROM papers;\", conn)\n",
    "\n",
    "print(\"Total papers loaded:\", df_total[\"total_papers\"].iloc[0])\n"
   ]
  },
  {
   "cell_type": "code",
   "execution_count": null,
   "id": "ad5a9013-06dc-4122-b7ee-e2ad45921e9a",
   "metadata": {},
   "outputs": [],
   "source": [
    "# Cell 4a: Show table_info (cid, name, type, notnull, dflt_value, pk)\n",
    "with sqlite3.connect(DB_PATH) as conn:\n",
    "    df_schema = pd.read_sql(\"PRAGMA table_info(papers);\", conn)\n",
    "\n",
    "df_schema\n"
   ]
  },
  {
   "cell_type": "code",
   "execution_count": null,
   "id": "007373e8-fca8-4851-9b05-a0a5b9bae113",
   "metadata": {},
   "outputs": [],
   "source": [
    "# Cell 5: Count NULL or blank entries for every column\n",
    "with sqlite3.connect(DB_PATH) as conn:\n",
    "    df_schema = pd.read_sql(\"PRAGMA table_info(papers);\", conn)\n",
    "\n",
    "print(\"Missing/NULL counts per column:\\n\")\n",
    "for col in df_schema[\"name\"]:\n",
    "    col_type = df_schema[df_schema[\"name\"] == col][\"type\"].iloc[0].upper()\n",
    "    if col_type == \"INTEGER\":\n",
    "        query = f\"SELECT COUNT(*) AS missing_{col} FROM papers WHERE {col} IS NULL;\"\n",
    "    else:\n",
    "        query = f\"SELECT COUNT(*) AS missing_{col} FROM papers WHERE {col} IS NULL OR trim({col}) = '';\"\n",
    "    df_missing = pd.read_sql(query, conn)\n",
    "    missing_count = df_missing.iloc[0, 0]\n",
    "    print(f\"  {col:<18} → {missing_count} missing\")\n"
   ]
  },
  {
   "cell_type": "code",
   "execution_count": null,
   "id": "ccdcc78d-a37f-4063-89df-679322fb610d",
   "metadata": {},
   "outputs": [],
   "source": [
    "# Cell 6: Distinct values for genre, journal, and source_quality\n",
    "with sqlite3.connect(DB_PATH) as conn:\n",
    "    for colname in [\"genre\", \"journal\", \"source_quality\", \"publisher\"]:\n",
    "        df_distinct = pd.read_sql(\n",
    "            f\"SELECT DISTINCT {colname} AS val FROM papers ORDER BY {colname};\", conn\n",
    "        )\n",
    "        values = df_distinct[\"val\"].fillna(\"<NULL>\").tolist()\n",
    "        print(f\"\\nDistinct values in '{colname}':\")\n",
    "        for v in values:\n",
    "            print(\"   \", repr(v))\n"
   ]
  },
  {
   "cell_type": "code",
   "execution_count": null,
   "id": "a33debfb-65b0-4853-bf96-f2d1878ad2ba",
   "metadata": {},
   "outputs": [],
   "source": [
    "# Cell 7: Preview first 5 rows of the table\n",
    "with sqlite3.connect(DB_PATH) as conn:\n",
    "    df_preview = pd.read_sql(\"SELECT * FROM papers LIMIT 5;\", conn)\n",
    "\n",
    "df_preview\n"
   ]
  }
 ],
 "metadata": {
  "kernelspec": {
   "display_name": "Python 3 (ipykernel)",
   "language": "python",
   "name": "python3"
  },
  "language_info": {
   "codemirror_mode": {
    "name": "ipython",
    "version": 3
   },
   "file_extension": ".py",
   "mimetype": "text/x-python",
   "name": "python",
   "nbconvert_exporter": "python",
   "pygments_lexer": "ipython3",
   "version": "3.13.0"
  }
 },
 "nbformat": 4,
 "nbformat_minor": 5
}
